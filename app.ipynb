{
 "cells": [
  {
   "cell_type": "code",
   "execution_count": null,
   "metadata": {},
   "outputs": [
    {
     "name": "stdout",
     "output_type": "stream",
     "text": [
      " * Serving Flask app \"__main__\" (lazy loading)\n",
      " * Environment: production\n",
      "   WARNING: This is a development server. Do not use it in a production deployment.\n",
      "   Use a production WSGI server instead.\n",
      " * Debug mode: off\n"
     ]
    },
    {
     "name": "stderr",
     "output_type": "stream",
     "text": [
      " * Running on http://127.0.0.1:5000/ (Press CTRL+C to quit)\n",
      "127.0.0.1 - - [03/Jun/2021 20:05:25] \"\u001b[37mGET / HTTP/1.1\u001b[0m\" 200 -\n",
      "127.0.0.1 - - [03/Jun/2021 20:05:26] \"\u001b[33mGET /favicon.ico HTTP/1.1\u001b[0m\" 404 -\n",
      "127.0.0.1 - - [03/Jun/2021 20:06:02] \"\u001b[37mPOST /predict HTTP/1.1\u001b[0m\" 200 -\n",
      "127.0.0.1 - - [03/Jun/2021 20:06:02] \"\u001b[37mGET / HTTP/1.1\u001b[0m\" 200 -\n",
      "127.0.0.1 - - [03/Jun/2021 20:06:12] \"\u001b[37mPOST /predict HTTP/1.1\u001b[0m\" 200 -\n",
      "127.0.0.1 - - [03/Jun/2021 20:06:32] \"\u001b[37mPOST /predict HTTP/1.1\u001b[0m\" 200 -\n",
      "127.0.0.1 - - [03/Jun/2021 20:06:49] \"\u001b[37mPOST /predict HTTP/1.1\u001b[0m\" 200 -\n",
      "127.0.0.1 - - [03/Jun/2021 20:07:07] \"\u001b[37mPOST /predict HTTP/1.1\u001b[0m\" 200 -\n",
      "127.0.0.1 - - [03/Jun/2021 20:08:46] \"\u001b[37mPOST /predict HTTP/1.1\u001b[0m\" 200 -\n",
      "127.0.0.1 - - [03/Jun/2021 20:08:46] \"\u001b[37mGET /static/user%20uploaded/dis_leaf%20(248)_compressed.jpg HTTP/1.1\u001b[0m\" 200 -\n",
      "127.0.0.1 - - [03/Jun/2021 20:09:45] \"\u001b[37mPOST /predict HTTP/1.1\u001b[0m\" 200 -\n",
      "127.0.0.1 - - [03/Jun/2021 20:09:45] \"\u001b[37mGET /static/user%20uploaded/download%20(1).jpg HTTP/1.1\u001b[0m\" 200 -\n",
      "127.0.0.1 - - [03/Jun/2021 20:10:25] \"\u001b[37mPOST /predict HTTP/1.1\u001b[0m\" 200 -\n",
      "127.0.0.1 - - [03/Jun/2021 20:10:25] \"\u001b[37mGET /static/user%20uploaded/Light-sporulation-of-Alternaria-300x225.jpg HTTP/1.1\u001b[0m\" 200 -\n",
      "127.0.0.1 - - [03/Jun/2021 20:12:41] \"\u001b[37mPOST /predict HTTP/1.1\u001b[0m\" 200 -\n",
      "127.0.0.1 - - [03/Jun/2021 20:12:41] \"\u001b[37mGET /static/user%20uploaded/dis_leaf%20(101)_iaip.jpg HTTP/1.1\u001b[0m\" 200 -\n",
      "127.0.0.1 - - [03/Jun/2021 20:14:01] \"\u001b[37mPOST /predict HTTP/1.1\u001b[0m\" 200 -\n",
      "127.0.0.1 - - [03/Jun/2021 20:14:01] \"\u001b[37mGET /static/user%20uploaded/dis_leaf%20(153)_iaip.jpg HTTP/1.1\u001b[0m\" 200 -\n",
      "127.0.0.1 - - [03/Jun/2021 20:14:36] \"\u001b[37mPOST /predict HTTP/1.1\u001b[0m\" 200 -\n",
      "127.0.0.1 - - [03/Jun/2021 20:14:36] \"\u001b[37mGET /static/user%20uploaded/dis_leaf%20(204)_iaip.jpg HTTP/1.1\u001b[0m\" 200 -\n"
     ]
    }
   ],
   "source": [
    "from flask import Flask, render_template, request\n",
    "import numpy as np\n",
    "import os\n",
    "from keras.preprocessing.image import load_img\n",
    "from keras.preprocessing.image import img_to_array\n",
    "from keras.models import load_model\n",
    "\n",
    "\n",
    "model = load_model(\"model/p5.h5\")\n",
    "\n",
    "def pred_cot_dieas(cott_plant):\n",
    "    test_image = load_img(cott_plant, target_size=(150, 150))\n",
    "\n",
    "    test_image = img_to_array(test_image) / 255\n",
    "    test_image = np.expand_dims(test_image, axis=0)\n",
    "\n",
    "    result = model.predict(test_image).round(3)\n",
    "\n",
    "    pred = np.argmax(result)\n",
    "\n",
    "    if pred == 0:\n",
    "        return \"Alternaria leaf spot disease\", 'Alternaria leaf spot disease.html'\n",
    "    elif pred == 1:\n",
    "        return 'Asochyta blight disease', 'Asochyta blight disease.html'\n",
    "    elif pred == 2:\n",
    "        return 'Bacterial blight disease', 'Bacterial blight disease.html'\n",
    "    elif pred == 3:\n",
    "        return 'Cercospora leaf spot disease', 'Cercospora leaf spot disease.html'\n",
    "    elif pred == 4:\n",
    "        return 'Cotton bunchy top disease', 'Cotton bunchy top disease.html'\n",
    "    elif pred == 5:\n",
    "        return 'fresh cotton leaf', 'healthy_plant_leaf.html'\n",
    "    elif pred == 6:\n",
    "        return 'fresh cotton plant', 'healthy_plant.html'\n",
    "    else:\n",
    "        return \"Healthy Cotton Plant\", 'healthy_plant.html'\n",
    "\n",
    "\n",
    "app = Flask(__name__)\n",
    "@app.route(\"/\", methods=['GET', 'POST'])\n",
    "def home():\n",
    "    return render_template('index.html')\n",
    "\n",
    "@app.route(\"/predict\", methods=['GET', 'POST'])\n",
    "def predict():\n",
    "    if request.method == 'POST':\n",
    "        file = request.files['image']\n",
    "        filename = file.filename\n",
    "\n",
    "        file_path = os.path.join('static/user uploaded', filename)\n",
    "        file.save(file_path)\n",
    "\n",
    "        pred, output_page = pred_cot_dieas(cott_plant=file_path)\n",
    "\n",
    "        return render_template(output_page, pred_output=pred, user_image=file_path)\n",
    "#new app\n",
    "\n",
    "if __name__ == \"__main__\":\n",
    "    app.run(threaded=False)"
   ]
  },
  {
   "cell_type": "code",
   "execution_count": null,
   "metadata": {},
   "outputs": [],
   "source": []
  }
 ],
 "metadata": {
  "kernelspec": {
   "display_name": "Python 3",
   "language": "python",
   "name": "python3"
  },
  "language_info": {
   "codemirror_mode": {
    "name": "ipython",
    "version": 3
   },
   "file_extension": ".py",
   "mimetype": "text/x-python",
   "name": "python",
   "nbconvert_exporter": "python",
   "pygments_lexer": "ipython3",
   "version": "3.8.5"
  }
 },
 "nbformat": 4,
 "nbformat_minor": 4
}
