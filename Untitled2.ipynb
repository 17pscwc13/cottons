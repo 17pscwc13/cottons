{
 "cells": [
  {
   "cell_type": "code",
   "execution_count": null,
   "metadata": {},
   "outputs": [
    {
     "name": "stdout",
     "output_type": "stream",
     "text": [
      " * Serving Flask app \"__main__\" (lazy loading)\n",
      " * Environment: production\n",
      "   WARNING: This is a development server. Do not use it in a production deployment.\n",
      "   Use a production WSGI server instead.\n",
      " * Debug mode: off\n"
     ]
    },
    {
     "name": "stderr",
     "output_type": "stream",
     "text": [
      " * Running on http://127.0.0.1:5000/ (Press CTRL+C to quit)\n",
      "127.0.0.1 - - [03/Jun/2021 18:31:13] \"\u001b[37mGET / HTTP/1.1\u001b[0m\" 200 -\n",
      "127.0.0.1 - - [03/Jun/2021 18:31:13] \"\u001b[37mGET / HTTP/1.1\u001b[0m\" 200 -\n"
     ]
    },
    {
     "name": "stdout",
     "output_type": "stream",
     "text": [
      "@@ Input posted =  WhatsApp Image 2021-06-03 at 17.39.29.jpeg\n",
      "@@ Predicting class......\n",
      "@@ Got Image for prediction\n"
     ]
    },
    {
     "name": "stderr",
     "output_type": "stream",
     "text": [
      "127.0.0.1 - - [03/Jun/2021 18:31:47] \"\u001b[37mPOST /predict HTTP/1.1\u001b[0m\" 200 -\n"
     ]
    },
    {
     "name": "stdout",
     "output_type": "stream",
     "text": [
      "@@ Raw result =  [[0.965 0.029 0.002 0.004]]\n",
      "@@ Input posted =  WhatsApp Image 2021-06-03 at 17.39.29.jpeg\n",
      "@@ Predicting class......\n",
      "@@ Got Image for prediction\n"
     ]
    },
    {
     "name": "stderr",
     "output_type": "stream",
     "text": [
      "127.0.0.1 - - [03/Jun/2021 18:31:48] \"\u001b[37mPOST /predict HTTP/1.1\u001b[0m\" 200 -\n",
      "127.0.0.1 - - [03/Jun/2021 18:31:48] \"\u001b[37mGET / HTTP/1.1\u001b[0m\" 200 -\n",
      "127.0.0.1 - - [03/Jun/2021 18:31:48] \"\u001b[37mGET / HTTP/1.1\u001b[0m\" 200 -\n"
     ]
    },
    {
     "name": "stdout",
     "output_type": "stream",
     "text": [
      "@@ Raw result =  [[0.965 0.029 0.002 0.004]]\n",
      "@@ Input posted =  WhatsApp Image 2021-06-03 at 17.39.29.jpeg\n",
      "@@ Predicting class......\n",
      "@@ Got Image for prediction\n",
      "@@ Raw result = "
     ]
    },
    {
     "name": "stderr",
     "output_type": "stream",
     "text": [
      "127.0.0.1 - - [03/Jun/2021 18:32:02] \"\u001b[37mPOST /predict HTTP/1.1\u001b[0m\" 200 -\n"
     ]
    },
    {
     "name": "stdout",
     "output_type": "stream",
     "text": [
      " [[0.965 0.029 0.002 0.004]]\n",
      "@@ Input posted =  dd (513)_compressed.jpg\n",
      "@@ Predicting class......\n",
      "@@ Got Image for prediction\n",
      "@@ Raw result =  [[0.    0.998 0.    0.002]]\n"
     ]
    },
    {
     "name": "stderr",
     "output_type": "stream",
     "text": [
      "[2021-06-03 18:32:19,158] ERROR in app: Exception on /predict [POST]\n",
      "Traceback (most recent call last):\n",
      "  File \"D:\\anaconda\\lib\\site-packages\\flask\\app.py\", line 2447, in wsgi_app\n",
      "    response = self.full_dispatch_request()\n",
      "  File \"D:\\anaconda\\lib\\site-packages\\flask\\app.py\", line 1952, in full_dispatch_request\n",
      "    rv = self.handle_user_exception(e)\n",
      "  File \"D:\\anaconda\\lib\\site-packages\\flask\\app.py\", line 1821, in handle_user_exception\n",
      "    reraise(exc_type, exc_value, tb)\n",
      "  File \"D:\\anaconda\\lib\\site-packages\\flask\\_compat.py\", line 39, in reraise\n",
      "    raise value\n",
      "  File \"D:\\anaconda\\lib\\site-packages\\flask\\app.py\", line 1950, in full_dispatch_request\n",
      "    rv = self.dispatch_request()\n",
      "  File \"D:\\anaconda\\lib\\site-packages\\flask\\app.py\", line 1936, in dispatch_request\n",
      "    return self.view_functions[rule.endpoint](**req.view_args)\n",
      "  File \"<ipython-input-1-449f8e12ebc9>\", line 48, in predict\n",
      "    return render_template(output_page, pred_output = pred, user_image = file_path)\n",
      "  File \"D:\\anaconda\\lib\\site-packages\\flask\\templating.py\", line 138, in render_template\n",
      "    ctx.app.jinja_env.get_or_select_template(template_name_or_list),\n",
      "  File \"D:\\anaconda\\lib\\site-packages\\jinja2\\environment.py\", line 930, in get_or_select_template\n",
      "    return self.get_template(template_name_or_list, parent, globals)\n",
      "  File \"D:\\anaconda\\lib\\site-packages\\jinja2\\environment.py\", line 883, in get_template\n",
      "    return self._load_template(name, self.make_globals(globals))\n",
      "  File \"D:\\anaconda\\lib\\site-packages\\jinja2\\environment.py\", line 857, in _load_template\n",
      "    template = self.loader.load(self, name, globals)\n",
      "  File \"D:\\anaconda\\lib\\site-packages\\jinja2\\loaders.py\", line 115, in load\n",
      "    source, filename, uptodate = self.get_source(environment, name)\n",
      "  File \"D:\\anaconda\\lib\\site-packages\\flask\\templating.py\", line 60, in get_source\n",
      "    return self._get_source_fast(environment, template)\n",
      "  File \"D:\\anaconda\\lib\\site-packages\\flask\\templating.py\", line 89, in _get_source_fast\n",
      "    raise TemplateNotFound(template)\n",
      "jinja2.exceptions.TemplateNotFound: disease_plant.html\n",
      "127.0.0.1 - - [03/Jun/2021 18:32:19] \"\u001b[35m\u001b[1mPOST /predict HTTP/1.1\u001b[0m\" 500 -\n",
      "127.0.0.1 - - [03/Jun/2021 18:32:35] \"\u001b[37mPOST /predict HTTP/1.1\u001b[0m\" 200 -\n"
     ]
    },
    {
     "name": "stdout",
     "output_type": "stream",
     "text": [
      "@@ Input posted =  download.jpg\n",
      "@@ Predicting class......\n",
      "@@ Got Image for prediction\n",
      "@@ Raw result =  [[0.011 0.157 0.831 0.001]]\n"
     ]
    },
    {
     "name": "stderr",
     "output_type": "stream",
     "text": [
      "127.0.0.1 - - [03/Jun/2021 18:33:08] \"\u001b[37mPOST /predict HTTP/1.1\u001b[0m\" 200 -\n"
     ]
    },
    {
     "name": "stdout",
     "output_type": "stream",
     "text": [
      "@@ Input posted =  dis_leaf (322)_compressed.jpg\n",
      "@@ Predicting class......\n",
      "@@ Got Image for prediction\n",
      "@@ Raw result =  [[0.999 0.001 0.    0.   ]]\n"
     ]
    },
    {
     "name": "stderr",
     "output_type": "stream",
     "text": [
      "127.0.0.1 - - [03/Jun/2021 18:33:08] \"\u001b[37mGET /static/user%20uploaded/dis_leaf%20(322)_compressed.jpg HTTP/1.1\u001b[0m\" 200 -\n",
      "127.0.0.1 - - [03/Jun/2021 18:34:17] \"\u001b[37mPOST /predict HTTP/1.1\u001b[0m\" 200 -\n"
     ]
    },
    {
     "name": "stdout",
     "output_type": "stream",
     "text": [
      "@@ Input posted =  p8.jpeg\n",
      "@@ Predicting class......\n",
      "@@ Got Image for prediction\n",
      "@@ Raw result =  [[1. 0. 0. 0.]]\n"
     ]
    },
    {
     "name": "stderr",
     "output_type": "stream",
     "text": [
      "127.0.0.1 - - [03/Jun/2021 18:34:18] \"\u001b[37mPOST /predict HTTP/1.1\u001b[0m\" 200 -\n",
      "127.0.0.1 - - [03/Jun/2021 18:34:18] \"\u001b[37mGET / HTTP/1.1\u001b[0m\" 200 -\n"
     ]
    },
    {
     "name": "stdout",
     "output_type": "stream",
     "text": [
      "@@ Input posted =  p8.jpeg\n",
      "@@ Predicting class......\n",
      "@@ Got Image for prediction\n",
      "@@ Raw result =  [[1. 0. 0. 0.]]\n"
     ]
    },
    {
     "name": "stderr",
     "output_type": "stream",
     "text": [
      "127.0.0.1 - - [03/Jun/2021 18:34:19] \"\u001b[37mGET /static/user%20uploaded/p8.jpeg HTTP/1.1\u001b[0m\" 200 -\n",
      "127.0.0.1 - - [03/Jun/2021 18:37:46] \"\u001b[37mGET / HTTP/1.1\u001b[0m\" 200 -\n",
      "127.0.0.1 - - [03/Jun/2021 18:37:46] \"\u001b[37mGET / HTTP/1.1\u001b[0m\" 200 -\n"
     ]
    }
   ],
   "source": [
    "from flask import Flask, render_template, request\n",
    "import numpy as np\n",
    "import os\n",
    "from keras.preprocessing.image import load_img\n",
    "from keras.preprocessing.image import img_to_array\n",
    "from keras.models import load_model\n",
    " \n",
    "\n",
    "model =load_model(\"model/p6.h5\")\n",
    "\n",
    "def pred_cot_dieas(cott_plant):\n",
    "    test_image = load_img(cott_plant, target_size = (150, 150)) # load image \n",
    "    print(\"@@ Got Image for prediction\")\n",
    "    test_image = img_to_array(test_image)/255 # convert image to np array and normalize\n",
    "    test_image = np.expand_dims(test_image, axis = 0) # change dimention 3D to 4D\n",
    "    result = model.predict(test_image).round(3) # predict diseased palnt or not\n",
    "    print('@@ Raw result = ', result)\n",
    "    pred = np.argmax(result) # get the index of max value\n",
    "    if pred == 0:\n",
    "        return \"Healthy Cotton Plant\", 'healthy_plant_leaf.html' # if index 0 burned leaf\n",
    "    elif pred == 1:\n",
    "        return \"Diseased Cotton Plant\", 'disease_plant.html' # # if index 1\n",
    "    elif pred == 2:\n",
    "        return 'Healthy Cotton Plant', 'healthy_plant.html'  # if index 2  fresh leaf\n",
    "    else:\n",
    "        return \"Healthy Cotton Plant\", 'healthy_plant.html' # if index 3\n",
    "\n",
    "app = Flask(__name__)\n",
    " \n",
    "# render index.html page\n",
    "@app.route(\"/\", methods=['GET', 'POST'])\n",
    "def home():\n",
    "    return render_template('index.html')\n",
    "\n",
    "@app.route(\"/predict\", methods = ['GET','POST'])\n",
    "def predict():\n",
    "    if request.method == 'POST':\n",
    "        file = request.files['image'] # fet input\n",
    "        filename = file.filename        \n",
    "        print(\"@@ Input posted = \", filename)\n",
    "         \n",
    "        file_path = os.path.join('static/user uploaded', filename)\n",
    "        file.save(file_path)\n",
    " \n",
    "        print(\"@@ Predicting class......\")\n",
    "        pred, output_page = pred_cot_dieas(cott_plant=file_path)\n",
    "               \n",
    "        return render_template(output_page, pred_output = pred, user_image = file_path)\n",
    "     \n",
    "# For local system & cloud\n",
    "if __name__ == \"__main__\":\n",
    "    app.run(threaded=False) "
   ]
  },
  {
   "cell_type": "code",
   "execution_count": null,
   "metadata": {},
   "outputs": [],
   "source": []
  },
  {
   "cell_type": "code",
   "execution_count": null,
   "metadata": {},
   "outputs": [],
   "source": []
  }
 ],
 "metadata": {
  "kernelspec": {
   "display_name": "Python 3",
   "language": "python",
   "name": "python3"
  },
  "language_info": {
   "codemirror_mode": {
    "name": "ipython",
    "version": 3
   },
   "file_extension": ".py",
   "mimetype": "text/x-python",
   "name": "python",
   "nbconvert_exporter": "python",
   "pygments_lexer": "ipython3",
   "version": "3.8.5"
  }
 },
 "nbformat": 4,
 "nbformat_minor": 4
}
