{
 "cells": [
  {
   "cell_type": "code",
   "execution_count": null,
   "metadata": {},
   "outputs": [],
   "source": [
    "from flask import Flask, render_template, request\n",
    "import numpy as np\n",
    "import os\n",
    "from keras.preprocessing.image import load_img\n",
    "from keras.preprocessing.image import img_to_array\n",
    "from keras.models import load_model\n",
    " \n",
    "\n",
    "model =load_model(\"model/p5.h5\")\n",
    "\n",
    "def pred_cot_dieas(cott_plant):\n",
    "    test_image = load_img(cott_plant, target_size = (150, 150)) # load image \n",
    "    print(\"@@ Got Image for prediction\")\n",
    "    test_image = img_to_array(test_image)/255 # convert image to np array and normalize\n",
    "    test_image = np.expand_dims(test_image, axis = 0) # change dimention 3D to 4D\n",
    "    result = model.predict(test_image).round(3) # predict diseased palnt or not\n",
    "    print('@@ Raw result = ', result)\n",
    "    pred = np.argmax(result) # get the index of max value\n",
    "    if pred == 0:\n",
    "        return \"Healthy Cotton Plant\", 'healthy_plant_leaf.html' # if index 0 burned leaf\n",
    "    elif pred == 1:\n",
    "        return \"Diseased Cotton Plant\", 'disease_plant.html' # # if index 1\n",
    "    elif pred == 2:\n",
    "        return 'Healthy Cotton Plant', 'healthy_plant.html'  # if index 2  fresh leaf\n",
    "    else:\n",
    "    return \"Healthy Cotton Plant\", 'healthy_plant.html' # if index 3\n",
    " \n",
    "#------------>>pred_cot_dieas<<--end\n",
    "\n",
    "app = Flask(__name__)\n",
    " \n",
    "# render index.html page\n",
    "@app.route(\"/\", methods=['GET', 'POST'])\n",
    "def home():\n",
    "    return render_template('index.html')\n",
    "\n",
    "@app.route(\"/predict\", methods = ['GET','POST'])\n",
    "def predict():\n",
    "    if request.method == 'POST':\n",
    "        file = request.files['image'] # fet input\n",
    "        filename = file.filename        \n",
    "        print(\"@@ Input posted = \", filename)\n",
    "         \n",
    "        file_path = os.path.join('static/user uploaded', filename)\n",
    "        file.save(file_path)\n",
    " \n",
    "        print(\"@@ Predicting class......\")\n",
    "        pred, output_page = pred_cot_dieas(cott_plant=file_path)\n",
    "               \n",
    "        return render_template(output_page, pred_output = pred, user_image = file_path)\n",
    "     \n",
    "# For local system & cloud\n",
    "if __name__ == \"__main__\":\n",
    "    app.run(threaded=False) "
   ]
  },
  {
   "cell_type": "code",
   "execution_count": null,
   "metadata": {},
   "outputs": [],
   "source": []
  }
 ],
 "metadata": {
  "kernelspec": {
   "display_name": "Python 3",
   "language": "python",
   "name": "python3"
  },
  "language_info": {
   "codemirror_mode": {
    "name": "ipython",
    "version": 3
   },
   "file_extension": ".py",
   "mimetype": "text/x-python",
   "name": "python",
   "nbconvert_exporter": "python",
   "pygments_lexer": "ipython3",
   "version": "3.8.5"
  }
 },
 "nbformat": 4,
 "nbformat_minor": 4
}
